{
  "nbformat": 4,
  "nbformat_minor": 0,
  "metadata": {
    "interpreter": {
      "hash": "31f2aee4e71d21fbe5cf8b01ff0e069b9275f58929596ceb00d14d90e3e16cd6"
    },
    "kernelspec": {
      "display_name": "Python 3",
      "language": "python",
      "name": "python3"
    },
    "language_info": {
      "codemirror_mode": {
        "name": "ipython",
        "version": 3
      },
      "file_extension": ".py",
      "mimetype": "text/x-python",
      "name": "python",
      "nbconvert_exporter": "python",
      "pygments_lexer": "ipython3",
      "version": "3.6.9"
    },
    "colab": {
      "name": "optimizacion_usando_minibatch.ipynb",
      "provenance": []
    }
  },
  "cells": [
    {
      "cell_type": "markdown",
      "metadata": {
        "toc-hr-collapsed": false,
        "id": "KjOCDOPFg7Tk"
      },
      "source": [
        "Optimización usando minibatch\n",
        "==="
      ]
    },
    {
      "cell_type": "code",
      "metadata": {
        "id": "RogcLKMbg7Tm",
        "outputId": "61fbc608-1d1a-44ce-a49f-103ed3fd7222",
        "colab": {
          "base_uri": "https://localhost:8080/"
        }
      },
      "source": [
        "#\n",
        "# El siguiente conjunto de datos ya fue dividido en 5 lotes manualmente. \n",
        "# Modifique la función SSE para que devuelva el error correspondiente al\n",
        "# batch indicado.\n",
        "#\n",
        "# Rta/\n",
        "# 0.117133\n",
        "# 0.184635\n",
        "# 0.190872\n",
        "# 0.072883\n",
        "# 0.060832\n",
        "#\n",
        "import numpy as np\n",
        "x = [\n",
        "    [0.1087,  0.2698,  0.3765,  0.2146,  0.9155],\n",
        "    [0.0246,  0.0221,  0.8632,  0.6460,  0.2092],  \n",
        "    [0.8567,  0.1591,  0.9647,  0.6231,  0.7460],\n",
        "    [0.3654,  0.3065,  0.6886,  0.4966,  0.2008],\n",
        "    [0.2618,  0.7607,  0.1563,  0.4424,  0.7731],\n",
        "]\n",
        "\n",
        "d = [\n",
        "    [0.9519,  1.1237,  1.2360,  1.0526,  2.0743],\n",
        "    [0.7906,  0.7603,  2.0533,  1.6887,  1.0563],\n",
        "    [2.0991,  0.8953,  2.1917,  1.6266,  1.8508],\n",
        "    [1.2828,  1.2283,  1.8722,  1.4657,  1.0418],\n",
        "    [1.1097,  1.7826,  0.9711,  1.4267,  1.8248],\n",
        "]\n",
        "\n",
        "# ---->>> Inserte su codigo aquí ---->>>\n",
        "def SSE(w0, w1, batch):\n",
        "    return sum([(di - w0 - w1 * xi) ** 2 for xi, di in zip(x[batch], d[batch])])\n",
        "\n",
        "# ---->>> Evaluación ---->>>\n",
        "for batch in range(5):\n",
        "    print('{:.6f}'.format(SSE(1, 1, batch)))"
      ],
      "execution_count": 2,
      "outputs": [
        {
          "output_type": "stream",
          "text": [
            "0.117133\n",
            "0.184635\n",
            "0.190872\n",
            "0.072883\n",
            "0.060832\n"
          ],
          "name": "stdout"
        }
      ]
    },
    {
      "cell_type": "code",
      "metadata": {
        "id": "J8wqGweKg7Tn",
        "outputId": "c7860ad0-39e7-496d-aaae-30cc145b15e4",
        "colab": {
          "base_uri": "https://localhost:8080/"
        }
      },
      "source": [
        "#\n",
        "# Modifique la función gSSE para que retorne el gradiente \n",
        "# correspondiente al batch indicado.\n",
        "#\n",
        "# Rta/\n",
        "# +0.893200, -0.002512\n",
        "# +0.831800, -0.296299\n",
        "# -0.627800, -0.930084\n",
        "# +0.334200, -0.050009\n",
        "# +0.558800, +0.038167\n",
        "# \n",
        "\n",
        "# ---->>> Inserte su codigo aquí ---->>>\n",
        "\n",
        "def gSSE(w0, w1, batch):\n",
        "    #\n",
        "    # Calculo del vector de errores\n",
        "    #\n",
        "    e = [(di - w0 - w1 * xi) for xi, di in zip(x[batch], d[batch])]\n",
        "\n",
        "    #\n",
        "    # Cómputo de los gradientes\n",
        "    #\n",
        "    gw0 = -2 * sum(e)\n",
        "    gw1 = -2 * sum([ei * xi for ei, xi in zip(e, x[batch])])\n",
        "\n",
        "    #\n",
        "    # Retorna el gradiente como una tupla\n",
        "    #\n",
        "    return gw0, gw1\n",
        "\n",
        "# ---->>> Evaluación ---->>>\n",
        "for batch in range(5):\n",
        "    g = gSSE(1, 1, batch)\n",
        "    print('{:+.6f}, {:+.6f}'.format(g[0], g[1]))"
      ],
      "execution_count": 4,
      "outputs": [
        {
          "output_type": "stream",
          "text": [
            "+0.893200, -0.002512\n",
            "+0.831800, -0.296299\n",
            "-0.627800, -0.930084\n",
            "+0.334200, -0.050009\n",
            "+0.558800, +0.038167\n"
          ],
          "name": "stdout"
        }
      ]
    },
    {
      "cell_type": "code",
      "metadata": {
        "id": "UMqBea4sg7To",
        "outputId": "07764cc7-aff5-4d72-fb5e-6646c986d551",
        "colab": {
          "base_uri": "https://localhost:8080/"
        }
      },
      "source": [
        "#\n",
        "# Modifique la función mejora para que realize la corrección\n",
        "# de los parámetros usando el batch indicado.\n",
        "#\n",
        "# Rta/\n",
        "# 0.916820, 1.029630\n",
        "# \n",
        "\n",
        "# ---->>> Inserte su codigo aquí ---->>>\n",
        "\n",
        "def mejora(w0, w1, mu, batch):\n",
        "    #\n",
        "    # Computo del gradiente para los parámetros actuales\n",
        "    #\n",
        "    gw0, gw1 = gSSE(w0, w1, batch)\n",
        "\n",
        "    #\n",
        "    # Corrección de los parámetros\n",
        "    #\n",
        "    w0 = w0 - mu * gw0\n",
        "    w1 = w1 - mu * gw1\n",
        "\n",
        "    #\n",
        "    #  Parámetros corregidos\n",
        "    #\n",
        "    return w0, w1\n",
        "\n",
        "# ---->>> Evaluación ---->>>\n",
        "w0, w1 = mejora(1, 1, 0.1, 1)\n",
        "print('{:.6f}, {:.6f}'.format(w0, w1))"
      ],
      "execution_count": 5,
      "outputs": [
        {
          "output_type": "stream",
          "text": [
            "0.916820, 1.029630\n"
          ],
          "name": "stdout"
        }
      ]
    },
    {
      "cell_type": "code",
      "metadata": {
        "id": "lsnG5A-hg7To",
        "outputId": "a71dd50f-8a2c-4cf9-c32f-a24960b840b9",
        "colab": {
          "base_uri": "https://localhost:8080/"
        }
      },
      "source": [
        "#\n",
        "# Imprima los valores de w0 y w1, cuando  los valores iniciales \n",
        "# son w0 = 0.5 y w1 = 3.0, y se recorre los batches en el orden \n",
        "# indicado\n",
        "#\n",
        "# Rta/\n",
        "# 0.177666\n",
        "# 2.534916\n",
        "#\n",
        "\n",
        "# ---->>> Inserte su codigo aquí ---->>>\n",
        "\n",
        "w0 = 0.5\n",
        "w1 = 3.0\n",
        "batches = [1, 3, 4, 2, 0, 3, 1, 0, 2, 4]\n",
        "for batch in batches:\n",
        "    w0, w1 = mejora(w0, w1, 0.03, batch)\n",
        "\n",
        "# ---->>> Evaluación ---->>>\n",
        "print('{:.6f}'.format(w0))\n",
        "print('{:.6f}'.format(w1))"
      ],
      "execution_count": 7,
      "outputs": [
        {
          "output_type": "stream",
          "text": [
            "0.177666\n",
            "2.534916\n"
          ],
          "name": "stdout"
        }
      ]
    }
  ]
}