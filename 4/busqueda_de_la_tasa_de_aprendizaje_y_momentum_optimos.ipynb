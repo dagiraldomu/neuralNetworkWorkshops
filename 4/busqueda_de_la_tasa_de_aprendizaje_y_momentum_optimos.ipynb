{
  "nbformat": 4,
  "nbformat_minor": 0,
  "metadata": {
    "interpreter": {
      "hash": "31f2aee4e71d21fbe5cf8b01ff0e069b9275f58929596ceb00d14d90e3e16cd6"
    },
    "kernelspec": {
      "display_name": "Python 3",
      "language": "python",
      "name": "python3"
    },
    "language_info": {
      "codemirror_mode": {
        "name": "ipython",
        "version": 3
      },
      "file_extension": ".py",
      "mimetype": "text/x-python",
      "name": "python",
      "nbconvert_exporter": "python",
      "pygments_lexer": "ipython3",
      "version": "3.6.9"
    },
    "colab": {
      "name": "busqueda_de_la_tasa_de_aprendizaje_y_momentum_optimos.ipynb",
      "provenance": []
    }
  },
  "cells": [
    {
      "cell_type": "markdown",
      "metadata": {
        "toc-hr-collapsed": false,
        "id": "Ww1vq9XuoJUu"
      },
      "source": [
        "Búsqueda de la tasa de aprendizaje y momentum óptimos\n",
        "==="
      ]
    },
    {
      "cell_type": "markdown",
      "metadata": {
        "id": "c9SgtUHkoJUx"
      },
      "source": [
        "Modifique el siguiente código para obtener la mejor combinación de los parámetros $\\mu$ (tasa de aprendizaje) y $\\beta$ (momentum) para el problema realizado en la lección anterior."
      ]
    },
    {
      "cell_type": "code",
      "metadata": {
        "id": "m8H5YUJQoJUx",
        "outputId": "508aba2c-837b-4860-fbcb-9560b89d5daa",
        "colab": {
          "base_uri": "https://localhost:8080/"
        }
      },
      "source": [
        "#\n",
        "# Modifique el siguiente código para encontrar para que busque la mejor\n",
        "# combinación de tasa de aprendizaje y momentum. No modifique los demas\n",
        "# parámetros. Los valores para los que debe buscar la mejor combinación\n",
        "# están definidos en el código.\n",
        "#\n",
        "# Rta/\n",
        "# mu = 0.04\n",
        "# beta = 0.4\n",
        "#\n",
        "\n",
        "mu_opt = None\n",
        "beta_opt = None\n",
        "sse_opt = None\n",
        "\n",
        "mu_ = [0.01, 0.02, 0.03, 0.04, 0.05, 0.06, 0.07, 0.08]\n",
        "beta_ = [0.0, 0.1, 0.2, 0.3, 0.4, 0.5, 0.6, 0.7, 0.8, 0.9]\n",
        "\n",
        "# ---->>> Inserte su codigo aquí ---->>>\n",
        "\n",
        "\n",
        "def SSE(w0, w1):\n",
        "    return sum([(v - w0 - w1 * u) ** 2 for u, v in zip(x, d)])\n",
        "\n",
        "def gSSE(w0, w1):\n",
        "    e = [(v - w0 - w1 * u) for u, v in zip(x, d)]\n",
        "    gw0 = -2 * sum(e)\n",
        "    gw1 = -2 * sum([q * v for q, v in zip(e, x)])\n",
        "    return (gw0, gw1)\n",
        "\n",
        "\n",
        "def mejora(w0, w1, mu, beta):\n",
        "    \n",
        "    # Corrección en la iteración anterior.\n",
        "    global previous_delta_w0\n",
        "    global previous_delta_w1\n",
        "\n",
        "    # Computó del gradiente para los parámetros actuales\n",
        "    gw0, gw1 = gSSE(w0, w1)\n",
        "\n",
        "    # Corrección de los parámetros\n",
        "    delta_w0 = -mu * gw0 + beta * previous_delta_w0\n",
        "    delta_w1 = -mu * gw1 + beta * previous_delta_w1\n",
        "\n",
        "    # Almacenamiento de la corrección para la siguiente iteración\n",
        "    previous_delta_w0 = delta_w0\n",
        "    previous_delta_w1 = delta_w1\n",
        "\n",
        "    w0 = w0 + delta_w0\n",
        "    w1 = w1 + delta_w1\n",
        "\n",
        "    # retorna los parámetros corregidos\n",
        "    return (w0, w1)\n",
        "\n",
        "\n",
        "x = [\n",
        "    0.1087,\n",
        "    0.2698,\n",
        "    0.3765,\n",
        "    0.2146,\n",
        "    0.9155,\n",
        "    0.0246,\n",
        "    0.0221,\n",
        "    0.8632,\n",
        "    0.6460,\n",
        "    0.2092,\n",
        "    0.8567,\n",
        "    0.1591,\n",
        "    0.9647,\n",
        "    0.6231,\n",
        "    0.7460,\n",
        "    0.3654,\n",
        "    0.3065,\n",
        "    0.6886,\n",
        "    0.4966,\n",
        "    0.2008,\n",
        "    0.2618,\n",
        "    0.7607,\n",
        "    0.1563,\n",
        "    0.4424,\n",
        "    0.7731,\n",
        "]\n",
        "\n",
        "d = [\n",
        "    0.9519,\n",
        "    1.1237,\n",
        "    1.2360,\n",
        "    1.0526,\n",
        "    2.0743,\n",
        "    0.7906,\n",
        "    0.7603,\n",
        "    2.0533,\n",
        "    1.6887,\n",
        "    1.0563,\n",
        "    2.0991,\n",
        "    0.8953,\n",
        "    2.1917,\n",
        "    1.6266,\n",
        "    1.8508,\n",
        "    1.2828,\n",
        "    1.2283,\n",
        "    1.8722,\n",
        "    1.4657,\n",
        "    1.0418,\n",
        "    1.1097,\n",
        "    1.7826,\n",
        "    0.9711,\n",
        "    1.4267,\n",
        "    1.8248,\n",
        "]\n",
        "\n",
        "\n",
        "w0 = 0.5\n",
        "w1 = 3.0\n",
        "\n",
        "previous_delta_w0 = 0\n",
        "previous_delta_w1 = 0\n",
        "\n",
        "for mu in mu_:\n",
        "    for beta in beta_:\n",
        "\n",
        "        w0 = 0.5\n",
        "        w1 = 3.0\n",
        "        previous_delta_w0 = 0\n",
        "        previous_delta_w1 = 0\n",
        "\n",
        "        for epoch in range(50):\n",
        "            w0, w1 = mejora(w0, w1, mu, beta)\n",
        "\n",
        "        sse = SSE(w0, w1)\n",
        "\n",
        "        if sse_opt is None or sse < sse_opt:\n",
        "            mu_opt = mu\n",
        "            beta_opt = beta\n",
        "            sse_opt = sse\n",
        "\n",
        "\n",
        "# ---->>> Evaluación ---->>>\n",
        "print(\"mu =\", mu_opt)\n",
        "print(\"beta =\", beta_opt)"
      ],
      "execution_count": 6,
      "outputs": [
        {
          "output_type": "stream",
          "text": [
            "mu = 0.04\n",
            "beta = 0.4\n"
          ],
          "name": "stdout"
        }
      ]
    }
  ]
}