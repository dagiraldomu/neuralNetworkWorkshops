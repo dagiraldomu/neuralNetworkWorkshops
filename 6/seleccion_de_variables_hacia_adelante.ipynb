{
  "nbformat": 4,
  "nbformat_minor": 0,
  "metadata": {
    "kernelspec": {
      "display_name": "Python 3",
      "language": "python",
      "name": "python3"
    },
    "language_info": {
      "codemirror_mode": {
        "name": "ipython",
        "version": 3
      },
      "file_extension": ".py",
      "mimetype": "text/x-python",
      "name": "python",
      "nbconvert_exporter": "python",
      "pygments_lexer": "ipython3",
      "version": "3.6.9"
    },
    "colab": {
      "name": "seleccion_de_variables_hacia_adelante.ipynb",
      "provenance": []
    }
  },
  "cells": [
    {
      "cell_type": "markdown",
      "metadata": {
        "toc-hr-collapsed": false,
        "id": "0zhyzFoXIcpQ"
      },
      "source": [
        "Selección de variables hacia adelante -forward-.\n",
        "==="
      ]
    },
    {
      "cell_type": "code",
      "metadata": {
        "id": "iZORGwIqIcpS",
        "colab": {
          "base_uri": "https://localhost:8080/"
        },
        "outputId": "5bf7d4b4-f756-4149-cf37-5c52bb4eaf99"
      },
      "source": [
        "#\n",
        "# El siguiente código genera una matriz de 10 variables\n",
        "# independientes, de las cuales únicamente las primeras\n",
        "# dos son informativas. Escriba un programa que implemente\n",
        "# el algoritmo de selección forward y apliquelo al dataset.\n",
        "# Use el criterio de selección de Akaike para determinar la\n",
        "# importancia de las variables.\n",
        "#\n",
        "# Imprima los índices de las columnas relevantes.\n",
        "#\n",
        "# Rta/\n",
        "# 0\n",
        "# 1\n",
        "# 8\n",
        "import warnings\n",
        "\n",
        "import numpy as np\n",
        "import statsmodels.api as sm\n",
        "from sklearn.datasets import make_regression\n",
        "\n",
        "warnings.filterwarnings(\"ignore\")\n",
        "np.random.seed(12345)\n",
        "\n",
        "X, d = make_regression(\n",
        "    n_samples=200,\n",
        "    n_features=10,\n",
        "    n_informative=2,\n",
        "    bias=0.0,  # intercepto\n",
        "    effective_rank=None,  # numero de vectores singulares para explicar los datos\n",
        "    tail_strength=0.9,  # ? importancia relativa de las colas\n",
        "    noise=12.0,\n",
        "        shuffle=False,  # ?\n",
        "    coef=False,  # ?coeficientes de la regresion\n",
        "    random_state=12136,\n",
        ")\n",
        "def improve_var(d, X, vars, aic):\n",
        "  array = list(range(10))\n",
        "  best_vars = []\n",
        "  best_aic = aic\n",
        "  for i in array:\n",
        "    if i not in vars:\n",
        "      vars.append(i)\n",
        "      model = sm.OLS(d, X[:, vars])\n",
        "      results = model.fit()\n",
        "      if results.aic < best_aic:\n",
        "        best_vars = vars.copy()\n",
        "        best_aic = results.aic\n",
        "      vars.remove(i)\n",
        "  if best_aic < aic:\n",
        "    return improve_var(d, X, best_vars, best_aic)\n",
        "  else:\n",
        "    return vars\n",
        "\n",
        "for column in sorted(improve_var(d, X, [], 1000000)):\n",
        "  print(column)  \n",
        "\n",
        "# ---->>> Evaluación ---->>>"
      ],
      "execution_count": 28,
      "outputs": [
        {
          "output_type": "stream",
          "text": [
            "0\n",
            "1\n",
            "8\n"
          ],
          "name": "stdout"
        }
      ]
    },
    {
      "cell_type": "code",
      "metadata": {
        "colab": {
          "base_uri": "https://localhost:8080/"
        },
        "id": "-BHMyEuwYSsI",
        "outputId": "60be70f3-bcc7-4b17-9632-8b140f23a8d9"
      },
      "source": [
        "model = sm.OLS(d, X[:, [1, 0]]) #Al parecer el Akaike de las 2 explicativas es mayor que el de el modelo con 3 variables (1,0,8)\n",
        "results = model.fit()\n",
        "print(results.aic)"
      ],
      "execution_count": 10,
      "outputs": [
        {
          "output_type": "stream",
          "text": [
            "1569.5472290445\n"
          ],
          "name": "stdout"
        }
      ]
    },
    {
      "cell_type": "code",
      "metadata": {
        "colab": {
          "base_uri": "https://localhost:8080/"
        },
        "id": "1Wk6y152Yyue",
        "outputId": "0fa84a3e-c8c8-448e-a096-26aef303fa53"
      },
      "source": [
        "model = sm.OLS(d, X[:, [1, 0, 8]])\n",
        "results = model.fit()\n",
        "print(results.aic)"
      ],
      "execution_count": 11,
      "outputs": [
        {
          "output_type": "stream",
          "text": [
            "1568.739792115791\n"
          ],
          "name": "stdout"
        }
      ]
    }
  ]
}