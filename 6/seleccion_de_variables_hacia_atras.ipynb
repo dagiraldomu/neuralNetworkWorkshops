{
  "nbformat": 4,
  "nbformat_minor": 0,
  "metadata": {
    "kernelspec": {
      "display_name": "Python 3",
      "language": "python",
      "name": "python3"
    },
    "language_info": {
      "codemirror_mode": {
        "name": "ipython",
        "version": 3
      },
      "file_extension": ".py",
      "mimetype": "text/x-python",
      "name": "python",
      "nbconvert_exporter": "python",
      "pygments_lexer": "ipython3",
      "version": "3.6.9"
    },
    "colab": {
      "name": "seleccion_de_variables_hacia_atras.ipynb",
      "provenance": []
    }
  },
  "cells": [
    {
      "cell_type": "markdown",
      "metadata": {
        "toc-hr-collapsed": false,
        "id": "pxTGMhVIo3Il"
      },
      "source": [
        "Selección de variables hacia atras -backward-.\n",
        "==="
      ]
    },
    {
      "cell_type": "code",
      "metadata": {
        "colab": {
          "base_uri": "https://localhost:8080/"
        },
        "id": "SGcNe7Ivo3In",
        "outputId": "ed4919a6-a6b6-43e3-95e0-9ef690dfabe9"
      },
      "source": [
        "#\n",
        "# El siguiente código genera una matriz de 10 variables \n",
        "# independientes, de las cuales únicamente las primeras \n",
        "# dos son informativas. Escriba un programa que implemente\n",
        "# el algoritmo de selección backward y apliquelo al dataset.\n",
        "# Use el criterio de selección de Akaike para determinar la\n",
        "# importancia de las variables.\n",
        "#\n",
        "# Imprima los índices de las columnas relevantes.\n",
        "# \n",
        "# Rta/\n",
        "# 0\n",
        "# 1\n",
        "# 8\n",
        "import warnings\n",
        "\n",
        "import numpy as np\n",
        "import statsmodels.api as sm\n",
        "from sklearn.datasets import make_regression\n",
        "\n",
        "warnings.filterwarnings(\"ignore\")\n",
        "\n",
        "np.random.seed(12345)\n",
        "\n",
        "X, d = make_regression(\n",
        "    n_samples=200,\n",
        "    n_features=10,\n",
        "    n_informative=2,\n",
        "    bias=0.0,  # intercepto\n",
        "    effective_rank=None,  # numero de vectores singulares para explicar los datos\n",
        "    tail_strength=0.9,  # ? importancia relativa de las colas\n",
        "    noise=12.0,\n",
        "    shuffle=False,  # ?\n",
        "    coef=False,  # ?coeficientes de la regresion\n",
        "    random_state=12136,\n",
        ")\n",
        "\n",
        "def improve_var(d, X, vars, aic):\n",
        "  worst_var = ''\n",
        "  best_aic = aic\n",
        "  for i in vars:\n",
        "    vars.remove(i)\n",
        "    model = sm.OLS(d, X[:, vars])\n",
        "    results = model.fit()\n",
        "    if results.aic < best_aic:\n",
        "      worst_var = i\n",
        "      best_aic = results.aic\n",
        "    vars.append(i)\n",
        "      \n",
        "  if best_aic < aic:\n",
        "    vars.remove(worst_var)\n",
        "    return improve_var(d, X, vars, best_aic)\n",
        "  else:\n",
        "    return vars\n",
        "\n",
        "for column in sorted(improve_var(d, X, list(range(10)), 100000)):\n",
        "  print(column)  \n",
        "\n",
        "# ---->>> Evaluación ---->>>"
      ],
      "execution_count": 30,
      "outputs": [
        {
          "output_type": "stream",
          "text": [
            "0\n",
            "1\n",
            "8\n"
          ],
          "name": "stdout"
        }
      ]
    },
    {
      "cell_type": "code",
      "metadata": {
        "id": "AnejC9tu0niW"
      },
      "source": [
        ""
      ],
      "execution_count": null,
      "outputs": []
    }
  ]
}