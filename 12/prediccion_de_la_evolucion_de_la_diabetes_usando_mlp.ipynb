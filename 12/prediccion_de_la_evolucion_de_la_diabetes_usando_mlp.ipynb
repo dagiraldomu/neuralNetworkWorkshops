{
  "nbformat": 4,
  "nbformat_minor": 0,
  "metadata": {
    "kernel_info": {
      "name": "python3"
    },
    "kernelspec": {
      "display_name": "Python 3",
      "language": "python",
      "name": "python3"
    },
    "language_info": {
      "codemirror_mode": {
        "name": "ipython",
        "version": 3
      },
      "file_extension": ".py",
      "mimetype": "text/x-python",
      "name": "python",
      "nbconvert_exporter": "python",
      "pygments_lexer": "ipython3",
      "version": "3.6.9"
    },
    "nteract": {
      "version": "0.7.1"
    },
    "varInspector": {
      "cols": {
        "lenName": 16,
        "lenType": 16,
        "lenVar": 40
      },
      "kernels_config": {
        "python": {
          "delete_cmd_postfix": "",
          "delete_cmd_prefix": "del ",
          "library": "var_list.py",
          "varRefreshCmd": "print(var_dic_list())"
        },
        "r": {
          "delete_cmd_postfix": ") ",
          "delete_cmd_prefix": "rm(",
          "library": "var_list.r",
          "varRefreshCmd": "cat(var_dic_list()) "
        }
      },
      "types_to_exclude": [
        "module",
        "function",
        "builtin_function_or_method",
        "instance",
        "_Feature"
      ],
      "window_display": false
    },
    "colab": {
      "name": "prediccion_de_la_evolucion_de_la_diabetes_usando_mlp.ipynb",
      "provenance": []
    }
  },
  "cells": [
    {
      "cell_type": "markdown",
      "metadata": {
        "id": "EZ7m2dcQC-KG"
      },
      "source": [
        "Predicción de la evolución de la diabetes en pacientes usando MLP\n",
        "==="
      ]
    },
    {
      "cell_type": "markdown",
      "metadata": {
        "id": "ljrqBSa0C-KK"
      },
      "source": [
        "Se desea construir um modelo de regresión no lineal (redes neuronales artificiales) que permita pronósticar el progreso de la diabetes con un horizonte de doce meses con base en variables físicas y pruebas de laboratorio. Véase https://www4.stat.ncsu.edu/~boos/var.select/diabetes.html"
      ]
    },
    {
      "cell_type": "markdown",
      "metadata": {
        "id": "F3TDyW7EC-KK"
      },
      "source": [
        "En este problema se tiene una base de datos de diez variables base (edad, sexo, índice de masa corporal, presión arterial, y seis variables medidas en sangre) para 442 pacientes, y un índice que mide el progreso de la diabetes un año después de la prueba. La columna Y es la variable explicada."
      ]
    },
    {
      "cell_type": "code",
      "metadata": {
        "id": "J_znaXeFC-KL"
      },
      "source": [
        "#\n",
        "# La muestra se encuentra dividida en tres partes:\n",
        "#\n",
        "#   * X_train, y_true_train: es la muestra para estimar los parametros optimos\n",
        "#\n",
        "#   * X_test, y_true_test: es la muestra para seleccionar la mejor configuración\n",
        "#\n",
        "#   * X_val, y_true_val: es la muestra para probar el modelo en productivo\n",
        "#\n",
        "import warnings\n",
        "\n",
        "import pandas as pd\n",
        "import pytest\n",
        "from sklearn.neural_network import MLPRegressor\n",
        "from sklearn.metrics import mean_squared_error\n",
        "\n",
        "warnings.filterwarnings(\"ignore\")\n",
        "\n",
        "df = pd.read_csv(\"https://raw.githubusercontent.com/jdvelasq/datalabs/master/datasets/diabetes.csv\")\n",
        "\n",
        "\n",
        "y_true = df.pop('Y')\n",
        "y_true_fit = y_true[:350]\n",
        "y_true_test = y_true[350:400]\n",
        "y_true_val = y_true[400:]\n",
        "\n",
        "X_fit = df[:350]\n",
        "X_test = df[350:400]\n",
        "X_val = df[400:]"
      ],
      "execution_count": 3,
      "outputs": []
    },
    {
      "cell_type": "code",
      "metadata": {
        "id": "6LmtpitAC-KN",
        "outputId": "431fa289-e44f-4443-b7d1-60f911281fea",
        "colab": {
          "base_uri": "https://localhost:8080/"
        }
      },
      "source": [
        "#\n",
        "# Use la muestra (X_train, y_true_train) para la estimación\n",
        "# de los pesos óptimos de la red neuronal.\n",
        "#\n",
        "# Seleccione el modelo óptimo como aquel que minimice el error\n",
        "# cuadrático medio para la muestra (X_test, y_true_test).\n",
        "#\n",
        "# Considere únicamente modelos desde una (1) hasta (5) \n",
        "# neuronas en la capa oculta. Considere únicamente las\n",
        "# siguientes semillas para inicializar la red neuronal\n",
        "# 1000, 1001, 1002, 1003, 1004, 1005.\n",
        "#\n",
        "# Compute el error cuadrático medio para la muestra\n",
        "# (X_val, y_true_val). Esta muestra representa la operación\n",
        "# del modelo en productio\n",
        "# \n",
        "# Rta/\n",
        "# True\n",
        "#\n",
        "\n",
        "# >>> Inserte su codigo aquí >>>\n",
        "best = 100000\n",
        "for h in range(5):\n",
        "  for random_state in [1000, 1001, 1002, 1003, 1004, 1005]:\n",
        "    m = MLPRegressor(\n",
        "        hidden_layer_sizes=(h+1,),\n",
        "        random_state=random_state,\n",
        "    )\n",
        "    m.fit(X_fit, y_true_fit)\n",
        "    mse = mean_squared_error(y_true_test, m.predict(X_test))\n",
        "    if mse < best:\n",
        "      best_random_state = random_state\n",
        "      best_hidden_layer_sizes = (h+1,)\n",
        "      best = mse\n",
        "      print(mse)\n",
        "\n",
        "m = MLPRegressor(\n",
        "        hidden_layer_sizes=best_hidden_layer_sizes,\n",
        "        random_state=best_random_state,\n",
        "    )\n",
        "m.fit(X_val, y_true_val)\n",
        "mse_val = mean_squared_error(y_true_val, m.predict(X_val))\n",
        "\n",
        "# ---->>> Evaluación ---->>>\n",
        "pytest.approx(mse_val, 0.0001) == 0.009535"
      ],
      "execution_count": 7,
      "outputs": [
        {
          "output_type": "stream",
          "name": "stdout",
          "text": [
            "32418.53089800599\n",
            "32369.173385334467\n",
            "32243.530732018822\n",
            "32129.902642163783\n",
            "32043.09259627439\n",
            "31945.395593966576\n",
            "31706.289536456956\n",
            "31496.515289688752\n"
          ]
        },
        {
          "output_type": "execute_result",
          "data": {
            "text/plain": [
              "False"
            ]
          },
          "metadata": {},
          "execution_count": 7
        }
      ]
    }
  ]
}